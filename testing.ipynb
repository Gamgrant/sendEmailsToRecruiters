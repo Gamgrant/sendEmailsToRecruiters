{
 "cells": [
  {
   "cell_type": "code",
   "execution_count": null,
   "metadata": {},
   "outputs": [],
   "source": [
    "# conda install -c conda-forge streamlit pandas gspread google-auth\n",
    "# pip install google-auth google-auth-oauthlib google-auth-httplib2 gspread\n"
   ]
  },
  {
   "cell_type": "code",
   "execution_count": 1,
   "metadata": {},
   "outputs": [
    {
     "name": "stdout",
     "output_type": "stream",
     "text": [
      "All packages installed successfully!\n"
     ]
    }
   ],
   "source": [
    "import streamlit\n",
    "import pandas \n",
    "import gspread\n",
    "import google.auth\n",
    "print('All packages installed successfully!')"
   ]
  },
  {
   "cell_type": "code",
   "execution_count": null,
   "metadata": {},
   "outputs": [],
   "source": [
    "import streamlit as st\n",
    "import pandas as pd\n",
    "import gspread\n",
    "from google.oauth2.service_account import Credentials\n",
    "\n",
    "# Google Sheets API setup\n",
    "SCOPES = [\"https://www.googleapis.com/auth/spreadsheets\"]\n",
    "SERVICE_ACCOUNT_FILE = \"credentials.json\"  # Update with your file path\n",
    "\n",
    "# Google Sheet ID (Replace this with your actual Google Sheet ID)\n",
    "SPREADSHEET_ID = \"1Z0QMbxa1dedDDJTZGgo-XF346OFgwAp6EybMNhYUINs\"\n",
    "\n",
    "# Function to fetch data from Google Sheets\n",
    "def get_google_sheet_data():\n",
    "    try:\n",
    "        creds = Credentials.from_service_account_file(SERVICE_ACCOUNT_FILE, scopes=SCOPES)\n",
    "        client = gspread.authorize(creds)\n",
    "        sheet = client.open_by_key(SPREADSHEET_ID).sheet1  # Get first sheet\n",
    "        data = sheet.get_all_records()\n",
    "        df = pd.DataFrame(data)\n",
    "        return df\n",
    "    except Exception as e:\n",
    "        st.error(f\"Error connecting to Google Sheets: {e}\")\n",
    "        return None\n",
    "\n",
    "# Streamlit UI\n",
    "st.title(\"Please select the action\")\n",
    "\n",
    "if st.button(\"Print spreadsheet as df\"):\n",
    "    df = get_google_sheet_data()\n",
    "    if df is not None:\n",
    "        st.write(\"### Google Sheets Data as DataFrame:\")\n",
    "        st.dataframe(df)  # Streamlit's pretty dataframe display\n"
   ]
  }
 ],
 "metadata": {
  "kernelspec": {
   "display_name": "pipeline_testing",
   "language": "python",
   "name": "python3"
  },
  "language_info": {
   "codemirror_mode": {
    "name": "ipython",
    "version": 3
   },
   "file_extension": ".py",
   "mimetype": "text/x-python",
   "name": "python",
   "nbconvert_exporter": "python",
   "pygments_lexer": "ipython3",
   "version": "3.10.16"
  }
 },
 "nbformat": 4,
 "nbformat_minor": 2
}
